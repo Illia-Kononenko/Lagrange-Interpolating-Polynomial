{
 "cells": [
  {
   "cell_type": "code",
   "execution_count": 1,
   "id": "05803d8a",
   "metadata": {},
   "outputs": [
    {
     "name": "stdout",
     "output_type": "stream",
     "text": [
      "P_j_1= 0.06104961132383204\n",
      "P_j_2= -0.29228942986655365\n",
      "P_j_3= 0.7233312081685056\n",
      "P_j_4= 0.5079122835860657\n",
      "experimental value 1.0000036732118498\n",
      "theoretical value 1.0000036732118496\n"
     ]
    }
   ],
   "source": [
    "import math\n",
    "import numpy as np\n",
    "x_test=0.7854\n",
    "n=4\n",
    "def y(x):\n",
    "    return math.tan(x)\n",
    "x_i=np.linspace(-1, 1, num=n)\n",
    "def P(x):\n",
    "    p_j=0\n",
    "    n=0\n",
    "    for x_j in x_i:\n",
    "        n=n+1\n",
    "        def P_j(x,x_j):\n",
    "            p=1\n",
    "            for x_k in x_i:\n",
    "                if x_j==x_k:\n",
    "                    continue\n",
    "                else:    \n",
    "                    p=p*(x-x_k)/(x_j-x_k)\n",
    "            return y(x)*p                        \n",
    "        p_j=p_j+P_j(x,x_j)\n",
    "        print(f'P_j_{n}=',P_j(x,x_j))\n",
    "    return p_j\n",
    "print('experimental value',P(x_test))\n",
    "print('theoretical value',y(x_test))"
   ]
  },
  {
   "cell_type": "code",
   "execution_count": null,
   "id": "731ff79f",
   "metadata": {},
   "outputs": [],
   "source": []
  }
 ],
 "metadata": {
  "kernelspec": {
   "display_name": "Python 3 (ipykernel)",
   "language": "python",
   "name": "python3"
  },
  "language_info": {
   "codemirror_mode": {
    "name": "ipython",
    "version": 3
   },
   "file_extension": ".py",
   "mimetype": "text/x-python",
   "name": "python",
   "nbconvert_exporter": "python",
   "pygments_lexer": "ipython3",
   "version": "3.9.12"
  }
 },
 "nbformat": 4,
 "nbformat_minor": 5
}
